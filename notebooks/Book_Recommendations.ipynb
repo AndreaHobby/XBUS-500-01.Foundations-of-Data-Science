{
 "cells": [
  {
   "cell_type": "code",
   "execution_count": 1,
   "metadata": {},
   "outputs": [],
   "source": [
    "import pandas as pd\n",
    "from collections import Counter, defaultdict\n",
    "import csv"
   ]
  },
  {
   "cell_type": "markdown",
   "metadata": {},
   "source": [
    "# Introduction"
   ]
  },
  {
   "cell_type": "markdown",
   "metadata": {},
   "source": [
    "This notebook provides several different approaches to solving the book recommendation dataset problem posed in the last class of Foundations of Data Science. The problem is reposted below.\n",
    "\n",
    "**Problem**: Create a function that takes a number (an integer) as an argument and returns the books in the dataset that have been recommended that number of times or more.\n",
    "\n",
    "There is no one \"right\" way to approach this problem. The beauty of Python (and other programming languages) problems is that there are numerous tools at your disposal for concocting solutions. Therefore, the goal of this notebook is not to provide \"correct\" answers, but to expose you to different approaches for the problem. The more tools, packages, approaches, etc. you are exposed to, the more successful you will be in solving diverse problems down the road. It is worth saying that while there are abundant ways to solve any one problem, you should always strive for code that is as readable and simple as possible (without sacrificing functionality or, in some cases, efficiency)."
   ]
  },
  {
   "cell_type": "markdown",
   "metadata": {},
   "source": [
    "### When Confronted with Something New or Foreign..."
   ]
  },
  {
   "cell_type": "markdown",
   "metadata": {},
   "source": [
    "There will likely be parts of the different solutions below that are new to you. This notebook will provide links to useful resources for reading up on some of the methods and functions, so be on the lookout for those. If you come across something new or something you don't entirely understand, your first instinct should not be to charge ahead, but to Google the new method, package, syntax, etc. and try to find illuminating examples. Also try to break the code down into smaller pieces to understand those blocks before tackling the code in its entirety. And it never hurts to test out a piece of the code for yourself, using your own numbers or variables."
   ]
  },
  {
   "cell_type": "markdown",
   "metadata": {},
   "source": [
    "For example, say you are looking at a code block that makes use of a dictionary object `{'key1': 'value1', 'key2': 'value2', 'key3': 'value3'}` called `my_dict` and uses `my_dict.items()`. You may not know what `my_dict.items()` gives you. There is no better way to find out than running it in a separate cell to see what the output looks like. See below for an example."
   ]
  },
  {
   "cell_type": "code",
   "execution_count": 136,
   "metadata": {},
   "outputs": [
    {
     "name": "stdout",
     "output_type": "stream",
     "text": [
      "('key1', 'value1')\n",
      "('key2', 'value2')\n",
      "('key3', 'value3')\n"
     ]
    }
   ],
   "source": [
    "my_dict = {'key1': 'value1', 'key2': 'value2', 'key3': 'value3'}\n",
    "\n",
    "for item in my_dict.items():\n",
    "    \n",
    "    print(item)"
   ]
  },
  {
   "cell_type": "markdown",
   "metadata": {},
   "source": [
    "If you're new to the concept of a dictionary object, you should take time to read this great [Dictionaries in Python](https://realpython.com/python-dicts/) article. It will walk you through the basics."
   ]
  },
  {
   "cell_type": "markdown",
   "metadata": {},
   "source": [
    "### Breaking Down the Problem\n",
    "\n",
    "Before diving into this problem, you should first identify what we are trying to calculate and what features in the dataset are relevant/needed. The dataset does not have a column with recommendation counts, so we need to work with the existing columns to arrive at a recommendation count for the books.\n",
    "\n",
    "Each instance in the dataset &mdash; a recommendation &mdash; has several key features: title of the book being reviewed, author of the book, and the name of the recommender. The values of these features are found under the `Title`, `Author`, and `Recommender` columns, respectively. A book in the dataset can be uniquely identified based on its title and author (it is possible that two different books share the same title, but do not share the same author). Therefore, you need to calculate the number of distinct recommenders for each unique book (or book title, book author pairing). A recommender is identified by name, so you are, in essence, counting the number of unique recommender names for each unique book."
   ]
  },
  {
   "cell_type": "markdown",
   "metadata": {},
   "source": [
    "# Quick Dataset Exploration\n",
    "\n",
    "This section reads the book recommendations dataset into the notebook as a dataframe and presents a few quick ways to explore some of the dataset's characteristics."
   ]
  },
  {
   "cell_type": "code",
   "execution_count": 2,
   "metadata": {},
   "outputs": [],
   "source": [
    "#In this cell, I set the relative path for where the dataset is located on my machine.\n",
    "#You should set this according to where the dataset is located on your own machine.\n",
    "data_path = 'data/master_list.txt'"
   ]
  },
  {
   "cell_type": "markdown",
   "metadata": {},
   "source": [
    "Below, you read in the dataset using Pandas' `.read_csv()` method. Remember to define the separator/delimiter as tab."
   ]
  },
  {
   "cell_type": "code",
   "execution_count": 180,
   "metadata": {},
   "outputs": [],
   "source": [
    "book_df = pd.read_csv(data_path, sep='\\t')"
   ]
  },
  {
   "cell_type": "markdown",
   "metadata": {},
   "source": [
    "Calling `.shape` on a dataframe will return a tuple, with the first number being the total number of records (or instances), and the second number being the number of columns/fields/features. Based on the output below, you see that the dataset has 1037 instances (not necessarily unique ones) and 12 columns."
   ]
  },
  {
   "cell_type": "code",
   "execution_count": 138,
   "metadata": {},
   "outputs": [
    {
     "data": {
      "text/plain": [
       "(1037, 12)"
      ]
     },
     "execution_count": 138,
     "metadata": {},
     "output_type": "execute_result"
    }
   ],
   "source": [
    "book_df.shape"
   ]
  },
  {
   "cell_type": "markdown",
   "metadata": {},
   "source": [
    "The `.head()` method for a dataframe is useful for getting a glimpse of what your data looks like. You can pass it an integer to return that number of records. If you do not pass anything, it defaults to 5 records. Note that calling `.tail()` on the dataframe will return the last 5 records in the dataset."
   ]
  },
  {
   "cell_type": "code",
   "execution_count": 181,
   "metadata": {},
   "outputs": [
    {
     "data": {
      "text/html": [
       "<div>\n",
       "<style scoped>\n",
       "    .dataframe tbody tr th:only-of-type {\n",
       "        vertical-align: middle;\n",
       "    }\n",
       "\n",
       "    .dataframe tbody tr th {\n",
       "        vertical-align: top;\n",
       "    }\n",
       "\n",
       "    .dataframe thead th {\n",
       "        text-align: right;\n",
       "    }\n",
       "</style>\n",
       "<table border=\"1\" class=\"dataframe\">\n",
       "  <thead>\n",
       "    <tr style=\"text-align: right;\">\n",
       "      <th></th>\n",
       "      <th>Title</th>\n",
       "      <th>Author</th>\n",
       "      <th>Recommender</th>\n",
       "      <th>Source</th>\n",
       "      <th>Amazon_Link</th>\n",
       "      <th>Description</th>\n",
       "      <th>Type</th>\n",
       "      <th>Genre</th>\n",
       "      <th>Length</th>\n",
       "      <th>Publish_Year</th>\n",
       "      <th>On_List</th>\n",
       "      <th>Review_Excerpt</th>\n",
       "    </tr>\n",
       "  </thead>\n",
       "  <tbody>\n",
       "    <tr>\n",
       "      <th>0</th>\n",
       "      <td>1984</td>\n",
       "      <td>George Orwell</td>\n",
       "      <td>Paul Coelho</td>\n",
       "      <td>http://theweek.com/articles/514936/best-books--chosen-by-paulo-coelho</td>\n",
       "      <td>http://www.amazon.com/1984-Signet-Classics-George-Orwell/dp/0451524934</td>\n",
       "      <td>NaN</td>\n",
       "      <td>NaN</td>\n",
       "      <td>NaN</td>\n",
       "      <td>NaN</td>\n",
       "      <td>NaN</td>\n",
       "      <td>NaN</td>\n",
       "      <td>NaN</td>\n",
       "    </tr>\n",
       "    <tr>\n",
       "      <th>1</th>\n",
       "      <td>1984</td>\n",
       "      <td>George Orwell</td>\n",
       "      <td>Steven Pinker</td>\n",
       "      <td>http://www.americanscientist.org/bookshelf/pub/steven-pinker</td>\n",
       "      <td>http://www.amazon.com/1984-Signet-Classics-George-Orwell/dp/0451524934</td>\n",
       "      <td>NaN</td>\n",
       "      <td>NaN</td>\n",
       "      <td>NaN</td>\n",
       "      <td>NaN</td>\n",
       "      <td>NaN</td>\n",
       "      <td>NaN</td>\n",
       "      <td>NaN</td>\n",
       "    </tr>\n",
       "    <tr>\n",
       "      <th>2</th>\n",
       "      <td>The Accidental Superpower</td>\n",
       "      <td>Peter Zeihan</td>\n",
       "      <td>Fareed Zakaria</td>\n",
       "      <td>http://globalpublicsquare.blogs.cnn.com/2012/07/23/a-list-of-fareeds-gps-book-recommendations/</td>\n",
       "      <td>http://www.amazon.com/Accidental-Superpower-Generation-American-Preeminence/dp/1455583669</td>\n",
       "      <td>NaN</td>\n",
       "      <td>NaN</td>\n",
       "      <td>NaN</td>\n",
       "      <td>NaN</td>\n",
       "      <td>NaN</td>\n",
       "      <td>NaN</td>\n",
       "      <td>NaN</td>\n",
       "    </tr>\n",
       "    <tr>\n",
       "      <th>3</th>\n",
       "      <td>Act of Congress</td>\n",
       "      <td>Robert Kaiser</td>\n",
       "      <td>Lawrence Lessig</td>\n",
       "      <td>https://www.ted.com/talks/lawrence_lessig_we_the_people_and_the_republic_we_must_reclaim/recommendations</td>\n",
       "      <td>http://www.amazon.com/Act-Congress-Americas-Essential-Institution/dp/0307744515</td>\n",
       "      <td>NaN</td>\n",
       "      <td>NaN</td>\n",
       "      <td>NaN</td>\n",
       "      <td>NaN</td>\n",
       "      <td>NaN</td>\n",
       "      <td>NaN</td>\n",
       "      <td>NaN</td>\n",
       "    </tr>\n",
       "    <tr>\n",
       "      <th>4</th>\n",
       "      <td>Age of Ambition: Chasing Fortune, Truth, and Faith in the New China</td>\n",
       "      <td>Evan Osnos</td>\n",
       "      <td>Fareed Zakaria</td>\n",
       "      <td>http://globalpublicsquare.blogs.cnn.com/2012/07/23/a-list-of-fareeds-gps-book-recommendations/</td>\n",
       "      <td>http://www.amazon.com/Age-Ambition-Chasing-Fortune-Truth/dp/0374535272</td>\n",
       "      <td>NaN</td>\n",
       "      <td>NaN</td>\n",
       "      <td>NaN</td>\n",
       "      <td>NaN</td>\n",
       "      <td>NaN</td>\n",
       "      <td>NaN</td>\n",
       "      <td>NaN</td>\n",
       "    </tr>\n",
       "  </tbody>\n",
       "</table>\n",
       "</div>"
      ],
      "text/plain": [
       "                                                                 Title  \\\n",
       "0  1984                                                                  \n",
       "1  1984                                                                  \n",
       "2  The Accidental Superpower                                             \n",
       "3  Act of Congress                                                       \n",
       "4  Age of Ambition: Chasing Fortune, Truth, and Faith in the New China   \n",
       "\n",
       "          Author      Recommender  \\\n",
       "0  George Orwell  Paul Coelho       \n",
       "1  George Orwell  Steven Pinker     \n",
       "2  Peter Zeihan   Fareed Zakaria    \n",
       "3  Robert Kaiser  Lawrence Lessig   \n",
       "4  Evan Osnos     Fareed Zakaria    \n",
       "\n",
       "                                                                                                     Source  \\\n",
       "0  http://theweek.com/articles/514936/best-books--chosen-by-paulo-coelho                                      \n",
       "1  http://www.americanscientist.org/bookshelf/pub/steven-pinker                                               \n",
       "2  http://globalpublicsquare.blogs.cnn.com/2012/07/23/a-list-of-fareeds-gps-book-recommendations/             \n",
       "3  https://www.ted.com/talks/lawrence_lessig_we_the_people_and_the_republic_we_must_reclaim/recommendations   \n",
       "4  http://globalpublicsquare.blogs.cnn.com/2012/07/23/a-list-of-fareeds-gps-book-recommendations/             \n",
       "\n",
       "                                                                                 Amazon_Link  \\\n",
       "0  http://www.amazon.com/1984-Signet-Classics-George-Orwell/dp/0451524934                      \n",
       "1  http://www.amazon.com/1984-Signet-Classics-George-Orwell/dp/0451524934                      \n",
       "2  http://www.amazon.com/Accidental-Superpower-Generation-American-Preeminence/dp/1455583669   \n",
       "3  http://www.amazon.com/Act-Congress-Americas-Essential-Institution/dp/0307744515             \n",
       "4  http://www.amazon.com/Age-Ambition-Chasing-Fortune-Truth/dp/0374535272                      \n",
       "\n",
       "  Description  Type  Genre  Length  Publish_Year On_List Review_Excerpt  \n",
       "0  NaN        NaN   NaN    NaN     NaN            NaN     NaN            \n",
       "1  NaN        NaN   NaN    NaN     NaN            NaN     NaN            \n",
       "2  NaN        NaN   NaN    NaN     NaN            NaN     NaN            \n",
       "3  NaN        NaN   NaN    NaN     NaN            NaN     NaN            \n",
       "4  NaN        NaN   NaN    NaN     NaN            NaN     NaN            "
      ]
     },
     "execution_count": 181,
     "metadata": {},
     "output_type": "execute_result"
    }
   ],
   "source": [
    "book_df.head()"
   ]
  },
  {
   "cell_type": "markdown",
   "metadata": {},
   "source": [
    "Based on the output above, it looks like our dataset suffers from many null values, which manifest as NaN in Pandas. (NaN is the default missing value marker). The code below provides the number of null values in each column. If interested, see this [introductory article](https://www.geeksforgeeks.org/working-with-missing-data-in-pandas/) on working with missing values in Pandas. It introduces other functions for detecting, removing, and replacing null values in a Pandas dataframe."
   ]
  },
  {
   "cell_type": "code",
   "execution_count": 142,
   "metadata": {},
   "outputs": [
    {
     "data": {
      "text/plain": [
       "Title             0   \n",
       "Author            0   \n",
       "Recommender       0   \n",
       "Source            0   \n",
       "Amazon_Link       650 \n",
       "Description       1031\n",
       "Type              1037\n",
       "Genre             1037\n",
       "Length            1031\n",
       "Publish_Year      1031\n",
       "On_List           1031\n",
       "Review_Excerpt    1031\n",
       "dtype: int64"
      ]
     },
     "execution_count": 142,
     "metadata": {},
     "output_type": "execute_result"
    }
   ],
   "source": [
    "book_df.isnull().sum()"
   ]
  },
  {
   "cell_type": "markdown",
   "metadata": {},
   "source": [
    "A quick note on null/missing values: most machine learning algorithms cannot handle missing values. Therefore, it is usually a good idea to explore your data and understand whether or not it suffers from missing values. You will learn about how to handle these later on in the program. But for this problem at hand, you can ignore the null values because they are within columns/features that you will not use. In your case, you are interested in the `Title`, `Author`, and `Recommender` columns, which all have no missing values."
   ]
  },
  {
   "cell_type": "markdown",
   "metadata": {},
   "source": [
    "The cell below identifies whether or not there are duplicate records in the dataset based on the `Title`, `Author`, and `Recommender` columns. It is usually important to identify duplicate records and deduplicate them before working on a dataset. In your case, if there are duplicate records, and you do not realize this, you may overestimate the count of unique recommendations for certain books.\n",
    "\n",
    "The following cell makes use of Pandas' [`.duplicated` method](https://pandas.pydata.org/pandas-docs/stable/reference/api/pandas.DataFrame.duplicated.html), which can be called on a dataframe object to identify duplicate records. This [article](https://thispointer.com/pandas-find-duplicate-rows-in-a-dataframe-based-on-all-or-selected-columns-using-dataframe-duplicated-in-python/) provides a solid walkthrough of how this method works. Below, you consider duplicate records based on the `Title`, `Author`, and `Recommender` columns. `book_df.duplicated(subset=['Title', 'Author', 'Recommender'])` returns a boolean series of True and False, with True representing the presence of a duplicate record. You can pass this series back into the original dataframe `book_df`, which will filter `book_df` to show rows corresponding with True &mdash; in other words, the duplicate records!"
   ]
  },
  {
   "cell_type": "code",
   "execution_count": 182,
   "metadata": {},
   "outputs": [
    {
     "data": {
      "text/html": [
       "<div>\n",
       "<style scoped>\n",
       "    .dataframe tbody tr th:only-of-type {\n",
       "        vertical-align: middle;\n",
       "    }\n",
       "\n",
       "    .dataframe tbody tr th {\n",
       "        vertical-align: top;\n",
       "    }\n",
       "\n",
       "    .dataframe thead th {\n",
       "        text-align: right;\n",
       "    }\n",
       "</style>\n",
       "<table border=\"1\" class=\"dataframe\">\n",
       "  <thead>\n",
       "    <tr style=\"text-align: right;\">\n",
       "      <th></th>\n",
       "      <th>Title</th>\n",
       "      <th>Author</th>\n",
       "      <th>Recommender</th>\n",
       "      <th>Source</th>\n",
       "      <th>Amazon_Link</th>\n",
       "      <th>Description</th>\n",
       "      <th>Type</th>\n",
       "      <th>Genre</th>\n",
       "      <th>Length</th>\n",
       "      <th>Publish_Year</th>\n",
       "      <th>On_List</th>\n",
       "      <th>Review_Excerpt</th>\n",
       "    </tr>\n",
       "  </thead>\n",
       "  <tbody>\n",
       "    <tr>\n",
       "      <th>406</th>\n",
       "      <td>An Intimate History of Humanity</td>\n",
       "      <td>Theodor Zeldin</td>\n",
       "      <td>Alain de Botton</td>\n",
       "      <td>http://alaindebotton.com/book-list/</td>\n",
       "      <td>NaN</td>\n",
       "      <td>NaN</td>\n",
       "      <td>NaN</td>\n",
       "      <td>NaN</td>\n",
       "      <td>NaN</td>\n",
       "      <td>NaN</td>\n",
       "      <td>NaN</td>\n",
       "      <td>NaN</td>\n",
       "    </tr>\n",
       "    <tr>\n",
       "      <th>439</th>\n",
       "      <td>The Mantle of Command: FDR at War, 1941-1942</td>\n",
       "      <td>Nigel Hamilton</td>\n",
       "      <td>Fareed Zakaria</td>\n",
       "      <td>http://globalpublicsquare.blogs.cnn.com/2012/07/23/a-list-of-fareeds-gps-book-recommendations/</td>\n",
       "      <td>NaN</td>\n",
       "      <td>NaN</td>\n",
       "      <td>NaN</td>\n",
       "      <td>NaN</td>\n",
       "      <td>NaN</td>\n",
       "      <td>NaN</td>\n",
       "      <td>NaN</td>\n",
       "      <td>NaN</td>\n",
       "    </tr>\n",
       "    <tr>\n",
       "      <th>817</th>\n",
       "      <td>The Principles of Psychology</td>\n",
       "      <td>William James</td>\n",
       "      <td>Sam Harris</td>\n",
       "      <td>https://www.samharris.org/book_store/all_sams_recommendations/P144</td>\n",
       "      <td>NaN</td>\n",
       "      <td>NaN</td>\n",
       "      <td>NaN</td>\n",
       "      <td>NaN</td>\n",
       "      <td>NaN</td>\n",
       "      <td>NaN</td>\n",
       "      <td>NaN</td>\n",
       "      <td>NaN</td>\n",
       "    </tr>\n",
       "  </tbody>\n",
       "</table>\n",
       "</div>"
      ],
      "text/plain": [
       "                                            Title          Author  \\\n",
       "406  An Intimate History of Humanity               Theodor Zeldin   \n",
       "439  The Mantle of Command: FDR at War, 1941-1942  Nigel Hamilton   \n",
       "817  The Principles of Psychology                  William James    \n",
       "\n",
       "         Recommender  \\\n",
       "406  Alain de Botton   \n",
       "439  Fareed Zakaria    \n",
       "817  Sam Harris        \n",
       "\n",
       "                                                                                             Source  \\\n",
       "406  http://alaindebotton.com/book-list/                                                              \n",
       "439  http://globalpublicsquare.blogs.cnn.com/2012/07/23/a-list-of-fareeds-gps-book-recommendations/   \n",
       "817  https://www.samharris.org/book_store/all_sams_recommendations/P144                               \n",
       "\n",
       "    Amazon_Link Description  Type  Genre  Length  Publish_Year On_List  \\\n",
       "406  NaN         NaN        NaN   NaN    NaN     NaN            NaN      \n",
       "439  NaN         NaN        NaN   NaN    NaN     NaN            NaN      \n",
       "817  NaN         NaN        NaN   NaN    NaN     NaN            NaN      \n",
       "\n",
       "    Review_Excerpt  \n",
       "406  NaN            \n",
       "439  NaN            \n",
       "817  NaN            "
      ]
     },
     "execution_count": 182,
     "metadata": {},
     "output_type": "execute_result"
    }
   ],
   "source": [
    "book_df[book_df.duplicated(subset=['Title', 'Author', 'Recommender'])]"
   ]
  },
  {
   "cell_type": "markdown",
   "metadata": {},
   "source": [
    "Based on the output above, you can see that the dataset has three duplicate records, with one of these being for the book 'An Intimate History of Humanity.' If you filter the dataframe `book_df` for rows where the `Title` column is this book, you see that there are, indeed, two rows (with one duplicate record). \n",
    "\n",
    "Note that the code below uses two equal signs, not one. This is an operator that compares two operands (in this case, the values in the `Title` column against the title An Intimate History of Humanity) and results in True if they are equal and False otherwise."
   ]
  },
  {
   "cell_type": "code",
   "execution_count": 183,
   "metadata": {},
   "outputs": [
    {
     "data": {
      "text/html": [
       "<div>\n",
       "<style scoped>\n",
       "    .dataframe tbody tr th:only-of-type {\n",
       "        vertical-align: middle;\n",
       "    }\n",
       "\n",
       "    .dataframe tbody tr th {\n",
       "        vertical-align: top;\n",
       "    }\n",
       "\n",
       "    .dataframe thead th {\n",
       "        text-align: right;\n",
       "    }\n",
       "</style>\n",
       "<table border=\"1\" class=\"dataframe\">\n",
       "  <thead>\n",
       "    <tr style=\"text-align: right;\">\n",
       "      <th></th>\n",
       "      <th>Title</th>\n",
       "      <th>Author</th>\n",
       "      <th>Recommender</th>\n",
       "      <th>Source</th>\n",
       "      <th>Amazon_Link</th>\n",
       "      <th>Description</th>\n",
       "      <th>Type</th>\n",
       "      <th>Genre</th>\n",
       "      <th>Length</th>\n",
       "      <th>Publish_Year</th>\n",
       "      <th>On_List</th>\n",
       "      <th>Review_Excerpt</th>\n",
       "    </tr>\n",
       "  </thead>\n",
       "  <tbody>\n",
       "    <tr>\n",
       "      <th>405</th>\n",
       "      <td>An Intimate History of Humanity</td>\n",
       "      <td>Theodor Zeldin</td>\n",
       "      <td>Alain de Botton</td>\n",
       "      <td>http://alaindebotton.com/book-list/</td>\n",
       "      <td>NaN</td>\n",
       "      <td>NaN</td>\n",
       "      <td>NaN</td>\n",
       "      <td>NaN</td>\n",
       "      <td>NaN</td>\n",
       "      <td>NaN</td>\n",
       "      <td>NaN</td>\n",
       "      <td>NaN</td>\n",
       "    </tr>\n",
       "    <tr>\n",
       "      <th>406</th>\n",
       "      <td>An Intimate History of Humanity</td>\n",
       "      <td>Theodor Zeldin</td>\n",
       "      <td>Alain de Botton</td>\n",
       "      <td>http://alaindebotton.com/book-list/</td>\n",
       "      <td>NaN</td>\n",
       "      <td>NaN</td>\n",
       "      <td>NaN</td>\n",
       "      <td>NaN</td>\n",
       "      <td>NaN</td>\n",
       "      <td>NaN</td>\n",
       "      <td>NaN</td>\n",
       "      <td>NaN</td>\n",
       "    </tr>\n",
       "  </tbody>\n",
       "</table>\n",
       "</div>"
      ],
      "text/plain": [
       "                               Title          Author      Recommender  \\\n",
       "405  An Intimate History of Humanity  Theodor Zeldin  Alain de Botton   \n",
       "406  An Intimate History of Humanity  Theodor Zeldin  Alain de Botton   \n",
       "\n",
       "                                  Source Amazon_Link Description  Type  Genre  \\\n",
       "405  http://alaindebotton.com/book-list/  NaN         NaN        NaN   NaN      \n",
       "406  http://alaindebotton.com/book-list/  NaN         NaN        NaN   NaN      \n",
       "\n",
       "     Length  Publish_Year On_List Review_Excerpt  \n",
       "405 NaN     NaN            NaN     NaN            \n",
       "406 NaN     NaN            NaN     NaN            "
      ]
     },
     "execution_count": 183,
     "metadata": {},
     "output_type": "execute_result"
    }
   ],
   "source": [
    "book_df[book_df['Title'] == 'An Intimate History of Humanity']"
   ]
  },
  {
   "cell_type": "markdown",
   "metadata": {},
   "source": [
    "In the cell below, the [`.drop_duplicates` method](https://pandas.pydata.org/pandas-docs/stable/reference/api/pandas.DataFrame.drop_duplicates.html) is called on the dataframe to drop all duplicate records (except for the first instances). Setting the `inplace` parameter to True will tell Python to modify the datafrarme in place and not return a copy. You can print the shape of the dataframe again to confirm that the 3 duplicate records were dropped."
   ]
  },
  {
   "cell_type": "code",
   "execution_count": 184,
   "metadata": {},
   "outputs": [
    {
     "data": {
      "text/plain": [
       "(1034, 12)"
      ]
     },
     "execution_count": 184,
     "metadata": {},
     "output_type": "execute_result"
    }
   ],
   "source": [
    "book_df.drop_duplicates(subset=['Title', 'Author', 'Recommender'], inplace=True)\n",
    "book_df.shape"
   ]
  },
  {
   "cell_type": "markdown",
   "metadata": {},
   "source": [
    "# Solutions\n",
    "\n",
    "This section presents four different functions for solving the problem. After each function is defined, there will be a cell for testing out the function and viewing its output. You will notice that the output for each function differs, but satisfies the problem requirements."
   ]
  },
  {
   "cell_type": "markdown",
   "metadata": {},
   "source": [
    "The function below relies on Pandas' [`.groupby` method](https://pandas.pydata.org/pandas-docs/stable/reference/api/pandas.DataFrame.groupby.html), which can be very useful for grouping large amounts of data and computing operations or calculations over these groups. You pass the `Title` and `Author` columns to the `.groupby` to group based on title and author (i.e., distinct books).\n",
    "\n",
    "It also makes use of [`.nunique()`](https://pandas.pydata.org/pandas-docs/stable/reference/api/pandas.core.groupby.SeriesGroupBy.nunique.html), which will return the count of unique elements in each group of the `.groupby`. It is worth noting that because you have deduplicated your data in the steps above, you could simply replace `.nunique()` with `.count()`. If you hadn't deduplicated your data, then `.nunique()` would have still been successful in counting the number of unique recommenders for each book, while `.count()` would not have been. In the code below, `.nunique()` is called on the `Recommender` column of the grouped data, which counts the number of unique recommenders per group (or book). Calling `.reset_index()` on the grouped data returns a dataframe object.\n",
    "\n",
    "The last line in the function below filters the dataframe for records with a recommender count greater than or equal to the integer you pass into the function. See [this article](https://thispointer.com/python-pandas-select-rows-in-dataframe-by-conditions-on-multiple-columns/) on filtering dataframes based on condition(s) for a better understanding of the conditional dataframe filtering syntax below.\n",
    "\n",
    "You will also notice that the dataframe returned by the function is sorted using [`.sort_values()`](https://pandas.pydata.org/pandas-docs/stable/reference/api/pandas.DataFrame.sort_values.html), which is used to sort the instances from highest to lowest recommender count, making the dataframe easier to read."
   ]
  },
  {
   "cell_type": "code",
   "execution_count": 121,
   "metadata": {},
   "outputs": [],
   "source": [
    "def recommender_counter(integer):\n",
    "    \n",
    "    recommender_counts = book_df.groupby(['Title', 'Author'])['Recommender'].nunique().reset_index(name='Count')\n",
    "    \n",
    "    return recommender_counts[recommender_counts['Count'] >= integer].sort_values(by=['Count'], ascending=False)"
   ]
  },
  {
   "cell_type": "code",
   "execution_count": 174,
   "metadata": {},
   "outputs": [
    {
     "data": {
      "text/html": [
       "<div>\n",
       "<style scoped>\n",
       "    .dataframe tbody tr th:only-of-type {\n",
       "        vertical-align: middle;\n",
       "    }\n",
       "\n",
       "    .dataframe tbody tr th {\n",
       "        vertical-align: top;\n",
       "    }\n",
       "\n",
       "    .dataframe thead th {\n",
       "        text-align: right;\n",
       "    }\n",
       "</style>\n",
       "<table border=\"1\" class=\"dataframe\">\n",
       "  <thead>\n",
       "    <tr style=\"text-align: right;\">\n",
       "      <th></th>\n",
       "      <th>Title</th>\n",
       "      <th>Author</th>\n",
       "      <th>Count</th>\n",
       "    </tr>\n",
       "  </thead>\n",
       "  <tbody>\n",
       "    <tr>\n",
       "      <th>810</th>\n",
       "      <td>The Selfish Gene</td>\n",
       "      <td>Richard Dawkins</td>\n",
       "      <td>5</td>\n",
       "    </tr>\n",
       "  </tbody>\n",
       "</table>\n",
       "</div>"
      ],
      "text/plain": [
       "                Title           Author  Count\n",
       "810  The Selfish Gene  Richard Dawkins      5"
      ]
     },
     "execution_count": 174,
     "metadata": {},
     "output_type": "execute_result"
    }
   ],
   "source": [
    "recommender_counter(4)"
   ]
  },
  {
   "cell_type": "markdown",
   "metadata": {},
   "source": [
    "The function below produces output different from the one above. It prints out the books' titles and authors according to their recommendation counts.\n",
    "\n",
    "It first makes use of the built-in function [`zip()`](https://docs.python.org/3.3/library/functions.html#zip). This function, which you can read more about [here](https://data-flair.training/blogs/python-zip-function/), takes the values in the `Title` column and the values in the `Author` column and pairs them together. Order is retained such that the first item in each passed iterator (the Title values series and the Author values series) is paired together, and then the second item in each is paired together, etc. Each resulting tuple in the zip object represents a unique book, since it contains both the title and author information.\n",
    "\n",
    "The zip object is passed to a [`Counter`](https://docs.python.org/2/library/collections.html#collections.Counter) object, which you imported from Python's [`collections`](https://docs.python.org/2/library/collections.html) module after running the first cell in this notebook. The Counter is useful for quickly counting elements passed to it. If you pass it a list of elements, it will store the elements as dictionary keys with dictionary values representing their occurrence counts. So when the zip object is passed to the Counter below, the Counter will return how many times each tuple (or book) appears. This is equivalent to counting how many times each book has been recommended, since the dataset has been deduplicated. See [this article](https://data-flair.training/blogs/python-counter/) for some more examples using Counter.\n",
    "\n",
    "The function below makes use of another dictionary subclass [`defaultdict`](https://docs.python.org/2/library/collections.html#collections.defaultdict) from the `collections` module. A defaultdict is initialized with an argument that represents the default value for the dictionary. In the code below, it is initialized with an empty list. This is useful because you can append values for repeated keys to one value list. Take a look at [this article](https://towardsdatascience.com/python-pro-tip-start-using-python-defaultdict-and-counter-in-place-of-dictionary-d1922513f747) for some more insight into defaultdicts and Counters. In the cell below, defaultdict is used to group the books together based on their recommendation counts, with its keys representing the recommendation counts, and its values being the lists of books corresponding with the counts.\n",
    "\n",
    "The function then feeds the integer argument passed to it into [`range()`](https://docs.python.org/3/library/functions.html#func-range), which is then [`reversed()`](https://docs.python.org/3/library/functions.html#reversed), producing an iterator. Both the integer argument and the maximum recommendation count (plus 1) are passed to range and then reversed, meaning the for loop is restricted to defaultdict keys ranging from the maximum count (which in this dataset is 5 recommendations) down to the integer argument (counts greater than or equal to the passed integer, which is desired).\n",
    "\n",
    "Finally, the function prints out the books with counts in this range in a readable format. To better understand the function below, you may also want to read up on Python's [f-strings](https://realpython.com/python-f-strings/) and read more on [`range()` and `reversed()`](https://realpython.com/python-range/)."
   ]
  },
  {
   "cell_type": "code",
   "execution_count": 199,
   "metadata": {},
   "outputs": [],
   "source": [
    "def recommender_counter2(integer):\n",
    "    \n",
    "    title_author_tuples = zip(book_df['Title'], book_df['Author'])\n",
    "    \n",
    "    counter = Counter(title_author_tuples)\n",
    "    \n",
    "    counter_dict = defaultdict(list)\n",
    "\n",
    "    for k,v in counter.items():\n",
    "        \n",
    "        counter_dict[v].append(k)\n",
    "\n",
    "    max_count = max(counter_dict.keys())\n",
    "    \n",
    "    for k in reversed(range(integer, max_count + 1)):\n",
    "        \n",
    "        #if counter_dict[k] checks if the value for the key k is empty and runs only if the value is not empty\n",
    "        if counter_dict[k]:\n",
    "            print(f\"\\n{k} Recommendations:\\n\")\n",
    "            \n",
    "            for book in counter_dict[k]:\n",
    "                \n",
    "                print(f\"{book[0]} by {book[1]}\")\n",
    "                            \n",
    "        else:\n",
    "            print(f\"\\n{k} Recommendations:\\n\\nNone!\")"
   ]
  },
  {
   "cell_type": "code",
   "execution_count": 186,
   "metadata": {},
   "outputs": [
    {
     "name": "stdout",
     "output_type": "stream",
     "text": [
      "\n",
      "5 Recommendations:\n",
      "\n",
      "The Selfish Gene by Richard Dawkins\n",
      "\n",
      "4 Recommendations:\n",
      "\n",
      "None!\n",
      "\n",
      "3 Recommendations:\n",
      "\n",
      "The Blind Watchmaker: Why the Evidence of Evolution Reveals a Universe without Design by Richard Dawkins\n",
      "The Singularity is Near: When Humans Transcend Biology by Ray Kurzweil\n",
      "Tao Te Ching by Lao Tzu\n",
      "Thinking, Fast and Slow by Daniel Kahneman\n",
      "The Really Hard Problem: Meaning in a Material World by Owen Flanagan\n",
      "The History of the Decline and Fall of the Roman Empire by Edward Gibbon\n",
      "The Demon-Haunted World: Science as a Candle in the Dark by Carl Sagan\n",
      "Why Evolution Is True by Jerry Coyne\n",
      "The Character of Physical Law by Richard Feynman\n"
     ]
    }
   ],
   "source": [
    "recommender_counter2(3)"
   ]
  },
  {
   "cell_type": "markdown",
   "metadata": {},
   "source": [
    "Iteration plays an important role in the next two functions shown below. They are presented in this notebook because iteration is often more approachable for people who are newer to programming. However, be wary of iteration, especially with regards to dataframes. It is [generally slow and often unneeded](https://stackoverflow.com/questions/16476924/how-to-iterate-over-rows-in-a-dataframe-in-pandas/55557758#55557758).\n",
    "\n",
    "In the `recommender_counter3` function below, the code employs Pandas' [`.iterrows()`](https://pandas.pydata.org/pandas-docs/stable/reference/api/pandas.DataFrame.iterrows.html) function, which lets you loop through a dataframe's rows, returning an iterator containing the index of each row and the data in each row as a series. It loops through the dataframe's rows and counts (with the use of Counter) how many times each book appears (which is equivalent to its recommendation count, since the dataframe has been deduplicated). The function then uses Pandas' [`.from_dict()`](https://pandas.pydata.org/pandas-docs/stable/reference/api/pandas.DataFrame.from_dict.html), which takes a dictionary object and transforms it into a dataframe, with the option of setting the dictionary's keys as the dataframe's columns or rows. Because the Counter dictionary object is passed to `.from_dict` with the argument `orient='index'`, the Counter's keys (books) are set as the dataframe's rows."
   ]
  },
  {
   "cell_type": "code",
   "execution_count": 200,
   "metadata": {},
   "outputs": [],
   "source": [
    "#This cell lets us customize Pandas' behavior. You set the width of the columns in your dataframe at max.\n",
    "#(So you can see the entire book title and author without them getting cut off)\n",
    "pd.set_option('display.max_colwidth', -1)"
   ]
  },
  {
   "cell_type": "code",
   "execution_count": 201,
   "metadata": {},
   "outputs": [],
   "source": [
    "def recommender_counter3(integer):\n",
    "    \n",
    "    count_dict = Counter()\n",
    "    \n",
    "    for index, row in book_df.iterrows():\n",
    "                \n",
    "        book = f\"{row['Title']} by {row['Author']}\"\n",
    "        \n",
    "        count_dict[book] += 1\n",
    "        \n",
    "    counter_df = pd.DataFrame.from_dict(count_dict, orient='index', columns=['Count'])\n",
    "    \n",
    "    counter_df.reset_index(inplace=True)\n",
    "    \n",
    "    counter_df.rename(columns={'index': 'Book'}, inplace=True)\n",
    "    \n",
    "    return counter_df[counter_df['Count'] >= integer].sort_values(by=['Count'], ascending=False)"
   ]
  },
  {
   "cell_type": "code",
   "execution_count": 202,
   "metadata": {},
   "outputs": [
    {
     "data": {
      "text/html": [
       "<div>\n",
       "<style scoped>\n",
       "    .dataframe tbody tr th:only-of-type {\n",
       "        vertical-align: middle;\n",
       "    }\n",
       "\n",
       "    .dataframe tbody tr th {\n",
       "        vertical-align: top;\n",
       "    }\n",
       "\n",
       "    .dataframe thead th {\n",
       "        text-align: right;\n",
       "    }\n",
       "</style>\n",
       "<table border=\"1\" class=\"dataframe\">\n",
       "  <thead>\n",
       "    <tr style=\"text-align: right;\">\n",
       "      <th></th>\n",
       "      <th>Book</th>\n",
       "      <th>Count</th>\n",
       "    </tr>\n",
       "  </thead>\n",
       "  <tbody>\n",
       "    <tr>\n",
       "      <th>261</th>\n",
       "      <td>The Selfish Gene by Richard Dawkins</td>\n",
       "      <td>5</td>\n",
       "    </tr>\n",
       "    <tr>\n",
       "      <th>28</th>\n",
       "      <td>The Blind Watchmaker: Why the Evidence of Evolution Reveals a Universe without Design by Richard Dawkins</td>\n",
       "      <td>3</td>\n",
       "    </tr>\n",
       "    <tr>\n",
       "      <th>266</th>\n",
       "      <td>The Singularity is Near: When Humans Transcend Biology by Ray Kurzweil</td>\n",
       "      <td>3</td>\n",
       "    </tr>\n",
       "    <tr>\n",
       "      <th>290</th>\n",
       "      <td>Tao Te Ching by Lao Tzu</td>\n",
       "      <td>3</td>\n",
       "    </tr>\n",
       "    <tr>\n",
       "      <th>294</th>\n",
       "      <td>Thinking, Fast and Slow by Daniel Kahneman</td>\n",
       "      <td>3</td>\n",
       "    </tr>\n",
       "    <tr>\n",
       "      <th>432</th>\n",
       "      <td>The Really Hard Problem: Meaning in a Material World by Owen Flanagan</td>\n",
       "      <td>3</td>\n",
       "    </tr>\n",
       "    <tr>\n",
       "      <th>455</th>\n",
       "      <td>The History of the Decline and Fall of the Roman Empire by Edward Gibbon</td>\n",
       "      <td>3</td>\n",
       "    </tr>\n",
       "    <tr>\n",
       "      <th>511</th>\n",
       "      <td>The Demon-Haunted World: Science as a Candle in the Dark by Carl Sagan</td>\n",
       "      <td>3</td>\n",
       "    </tr>\n",
       "    <tr>\n",
       "      <th>529</th>\n",
       "      <td>Why Evolution Is True by Jerry Coyne</td>\n",
       "      <td>3</td>\n",
       "    </tr>\n",
       "    <tr>\n",
       "      <th>544</th>\n",
       "      <td>The Character of Physical Law by Richard Feynman</td>\n",
       "      <td>3</td>\n",
       "    </tr>\n",
       "  </tbody>\n",
       "</table>\n",
       "</div>"
      ],
      "text/plain": [
       "                                                                                                         Book  \\\n",
       "261  The Selfish Gene by Richard Dawkins                                                                        \n",
       "28   The Blind Watchmaker: Why the Evidence of Evolution Reveals a Universe without Design by Richard Dawkins   \n",
       "266  The Singularity is Near: When Humans Transcend Biology by Ray Kurzweil                                     \n",
       "290  Tao Te Ching by Lao Tzu                                                                                    \n",
       "294  Thinking, Fast and Slow by Daniel Kahneman                                                                 \n",
       "432  The Really Hard Problem: Meaning in a Material World by Owen Flanagan                                      \n",
       "455  The History of the Decline and Fall of the Roman Empire by Edward Gibbon                                   \n",
       "511  The Demon-Haunted World: Science as a Candle in the Dark by Carl Sagan                                     \n",
       "529  Why Evolution Is True by Jerry Coyne                                                                       \n",
       "544  The Character of Physical Law by Richard Feynman                                                           \n",
       "\n",
       "     Count  \n",
       "261  5      \n",
       "28   3      \n",
       "266  3      \n",
       "290  3      \n",
       "294  3      \n",
       "432  3      \n",
       "455  3      \n",
       "511  3      \n",
       "529  3      \n",
       "544  3      "
      ]
     },
     "execution_count": 202,
     "metadata": {},
     "output_type": "execute_result"
    }
   ],
   "source": [
    "recommender_counter3(3)"
   ]
  },
  {
   "cell_type": "markdown",
   "metadata": {},
   "source": [
    "The last function in this notebook, `recommender_counter4`, moves away from Pandas and uses Python's [`csv`](https://docs.python.org/3/library/csv.html) module, which was imported in the first cell. It specifically reads the data in using the module's [`DictReader`](https://docs.python.org/3/library/csv.html#csv.DictReader), which maps the information in each row into a dictionary. The data in the row can be accessed using the column names in the dataset, passing them as keys.\n",
    "\n",
    "Again, a Counter object is used to count the number of times each book appears in the dataset. However, there is a catch. Because you are reading the data in anew, the data will not be deduplicated. Therefore, an empty list `unique_recommendations` is established to store each unique book and recommender name pairing as you iterate through the data using `DictReader`. The conditional statement, `if book_recommendation not in unique_recommendations:`, tells Python to only increase the count for an encountered book and its recommender if they do not represent a duplicate record (checking to see if they had already been appended to the `unique_recommendations` list as a record).\n",
    "\n",
    "The final line of the function utilizes [dictionary comprehension](https://www.datacamp.com/community/tutorials/python-dictionary-comprehension) to filter out books with recommendation counts less than the passed integer. It also uses the built-in [`sorted()`](https://docs.python.org/3/howto/sorting.html) function to return the books sorted from highest to lowest count."
   ]
  },
  {
   "cell_type": "code",
   "execution_count": 206,
   "metadata": {},
   "outputs": [],
   "source": [
    "def recommender_counter4(integer):\n",
    "    \n",
    "    with open(data_path) as tsv:\n",
    "\n",
    "        reader = csv.DictReader(tsv, delimiter='\\t')\n",
    "\n",
    "        counter_dict = Counter()\n",
    "\n",
    "        unique_recommendations = []\n",
    "\n",
    "        for row in reader:\n",
    "\n",
    "            book = f\"{row['Title']} by {row['Author']}\"\n",
    "\n",
    "            book_recommendation = [book, row['Recommender']]\n",
    "\n",
    "            if book_recommendation not in unique_recommendations:\n",
    "\n",
    "                counter_dict[book] += 1\n",
    "\n",
    "                unique_recommendations.append(book_recommendation)\n",
    "\n",
    "    return {k:v for k,v in sorted(counter_dict.items(), key=lambda item: item[1], reverse=True) if v >= integer}   "
   ]
  },
  {
   "cell_type": "code",
   "execution_count": 207,
   "metadata": {},
   "outputs": [
    {
     "data": {
      "text/plain": [
       "{'The Selfish Gene by Richard Dawkins': 5,\n",
       " 'The Blind Watchmaker: Why the Evidence of Evolution Reveals a Universe without Design by Richard Dawkins': 3,\n",
       " 'The Singularity is Near: When Humans Transcend Biology by Ray Kurzweil': 3,\n",
       " 'Tao Te Ching by Lao Tzu': 3,\n",
       " 'Thinking, Fast and Slow by Daniel Kahneman': 3,\n",
       " 'The Really Hard Problem: Meaning in a Material World by Owen Flanagan': 3,\n",
       " 'The History of the Decline and Fall of the Roman Empire by Edward Gibbon': 3,\n",
       " 'The Demon-Haunted World: Science as a Candle in the Dark by Carl Sagan': 3,\n",
       " 'Why Evolution Is True by Jerry Coyne': 3,\n",
       " 'The Character of Physical Law by Richard Feynman': 3}"
      ]
     },
     "execution_count": 207,
     "metadata": {},
     "output_type": "execute_result"
    }
   ],
   "source": [
    "recommender_counter4(3)"
   ]
  },
  {
   "cell_type": "markdown",
   "metadata": {},
   "source": [
    "Similar to dictionary comprehension, there is the concept of list comprehension. See this [article](https://realpython.com/list-comprehension-python/) for a great introduction to list comprehension."
   ]
  }
 ],
 "metadata": {
  "kernelspec": {
   "display_name": "ta_venv",
   "language": "python",
   "name": "ta_venv"
  },
  "language_info": {
   "codemirror_mode": {
    "name": "ipython",
    "version": 3
   },
   "file_extension": ".py",
   "mimetype": "text/x-python",
   "name": "python",
   "nbconvert_exporter": "python",
   "pygments_lexer": "ipython3",
   "version": "3.7.3"
  }
 },
 "nbformat": 4,
 "nbformat_minor": 2
}
